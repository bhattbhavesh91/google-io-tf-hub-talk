{
  "nbformat": 4,
  "nbformat_minor": 0,
  "metadata": {
    "colab": {
      "name": "WTM_IWD_Oman_Summit_Notebook.ipynb",
      "provenance": [],
      "collapsed_sections": []
    },
    "kernelspec": {
      "name": "python3",
      "display_name": "Python 3"
    },
    "language_info": {
      "name": "python"
    }
  },
  "cells": [
    {
      "cell_type": "code",
      "metadata": {
        "id": "imwJkVTyLqBM"
      },
      "source": [
        "import numpy as np\n",
        "import pandas as pd\n",
        "import PIL.Image as Image\n",
        "import tensorflow as tf\n",
        "import tensorflow_hub as hub"
      ],
      "execution_count": 1,
      "outputs": []
    },
    {
      "cell_type": "code",
      "metadata": {
        "id": "anqzZiCTLrII"
      },
      "source": [
        "TF_MODEL_URL = 'https://tfhub.dev/google/on_device_vision/classifier/landmarks_classifier_asia_V1/1'\n",
        "LABEL_MAP_URL = 'https://www.gstatic.com/aihub/tfhub/labelmaps/landmarks_classifier_asia_V1_label_map.csv'\n",
        "IMAGE_SHAPE = (321, 321)"
      ],
      "execution_count": 2,
      "outputs": []
    },
    {
      "cell_type": "code",
      "metadata": {
        "id": "_RqwSVBzMMDp",
        "colab": {
          "base_uri": "https://localhost:8080/"
        },
        "outputId": "b6b2b52d-d2e4-4e72-a0b3-e36eec7747cb"
      },
      "source": [
        "classifier = tf.keras.Sequential([hub.KerasLayer(TF_MODEL_URL,\n",
        "                                                 input_shape=IMAGE_SHAPE+(3,),\n",
        "                                                 output_key=\"predictions:logits\")])"
      ],
      "execution_count": 3,
      "outputs": [
        {
          "output_type": "stream",
          "text": [
            "INFO:tensorflow:Saver not created because there are no variables in the graph to restore\n"
          ],
          "name": "stdout"
        },
        {
          "output_type": "stream",
          "text": [
            "INFO:tensorflow:Saver not created because there are no variables in the graph to restore\n"
          ],
          "name": "stderr"
        }
      ]
    },
    {
      "cell_type": "code",
      "metadata": {
        "id": "MG4B31I4MTn3"
      },
      "source": [
        "df = pd.read_csv(LABEL_MAP_URL)"
      ],
      "execution_count": 4,
      "outputs": []
    },
    {
      "cell_type": "code",
      "metadata": {
        "id": "92Tqpqp6MWqT",
        "colab": {
          "base_uri": "https://localhost:8080/",
          "height": 202
        },
        "outputId": "adb06482-8ab6-419c-e6a4-5306a50e2f91"
      },
      "source": [
        "df.head()"
      ],
      "execution_count": 5,
      "outputs": [
        {
          "output_type": "execute_result",
          "data": {
            "text/html": [
              "<div>\n",
              "<style scoped>\n",
              "    .dataframe tbody tr th:only-of-type {\n",
              "        vertical-align: middle;\n",
              "    }\n",
              "\n",
              "    .dataframe tbody tr th {\n",
              "        vertical-align: top;\n",
              "    }\n",
              "\n",
              "    .dataframe thead th {\n",
              "        text-align: right;\n",
              "    }\n",
              "</style>\n",
              "<table border=\"1\" class=\"dataframe\">\n",
              "  <thead>\n",
              "    <tr style=\"text-align: right;\">\n",
              "      <th></th>\n",
              "      <th>id</th>\n",
              "      <th>name</th>\n",
              "    </tr>\n",
              "  </thead>\n",
              "  <tbody>\n",
              "    <tr>\n",
              "      <th>0</th>\n",
              "      <td>0</td>\n",
              "      <td>Bagha Shahi Mosque</td>\n",
              "    </tr>\n",
              "    <tr>\n",
              "      <th>1</th>\n",
              "      <td>1</td>\n",
              "      <td>City Palace</td>\n",
              "    </tr>\n",
              "    <tr>\n",
              "      <th>2</th>\n",
              "      <td>2</td>\n",
              "      <td>The Immaculate Conception Cathedral of Cubao</td>\n",
              "    </tr>\n",
              "    <tr>\n",
              "      <th>3</th>\n",
              "      <td>3</td>\n",
              "      <td>City of David</td>\n",
              "    </tr>\n",
              "    <tr>\n",
              "      <th>4</th>\n",
              "      <td>4</td>\n",
              "      <td>Noor Mahal</td>\n",
              "    </tr>\n",
              "  </tbody>\n",
              "</table>\n",
              "</div>"
            ],
            "text/plain": [
              "   id                                          name\n",
              "0   0                            Bagha Shahi Mosque\n",
              "1   1                                   City Palace\n",
              "2   2  The Immaculate Conception Cathedral of Cubao\n",
              "3   3                                 City of David\n",
              "4   4                                    Noor Mahal"
            ]
          },
          "metadata": {
            "tags": []
          },
          "execution_count": 5
        }
      ]
    },
    {
      "cell_type": "code",
      "metadata": {
        "id": "VMsDTk3cMY75"
      },
      "source": [
        "label_map = dict(zip(df.id, df.name))"
      ],
      "execution_count": 6,
      "outputs": []
    },
    {
      "cell_type": "code",
      "metadata": {
        "id": "VQ017MDkZXqT"
      },
      "source": [
        "img_loc = \"2.jpg\""
      ],
      "execution_count": 15,
      "outputs": []
    },
    {
      "cell_type": "code",
      "metadata": {
        "id": "nI6SL9lMMbBT"
      },
      "source": [
        "img = Image.open(img_loc).resize(IMAGE_SHAPE)"
      ],
      "execution_count": 16,
      "outputs": []
    },
    {
      "cell_type": "code",
      "metadata": {
        "id": "QLoEXu16MdOH"
      },
      "source": [
        "img"
      ],
      "execution_count": null,
      "outputs": []
    },
    {
      "cell_type": "code",
      "metadata": {
        "id": "K5nUooPHMelY"
      },
      "source": [
        "img = np.array(img)/255.0\n",
        "img = img[np.newaxis, ...]"
      ],
      "execution_count": 17,
      "outputs": []
    },
    {
      "cell_type": "code",
      "metadata": {
        "id": "9W6P1nXlMhfW"
      },
      "source": [
        "result = classifier.predict(img)"
      ],
      "execution_count": 18,
      "outputs": []
    },
    {
      "cell_type": "code",
      "metadata": {
        "id": "NF3umS3mZdum",
        "colab": {
          "base_uri": "https://localhost:8080/"
        },
        "outputId": "c7650178-3875-42ca-c9b3-a89347b9a133"
      },
      "source": [
        "result"
      ],
      "execution_count": 19,
      "outputs": [
        {
          "output_type": "execute_result",
          "data": {
            "text/plain": [
              "array([[ 0.10243182,  0.10270512,  0.05167606, ...,  0.01087124,\n",
              "         0.02359215, -0.01156662]], dtype=float32)"
            ]
          },
          "metadata": {
            "tags": []
          },
          "execution_count": 19
        }
      ]
    },
    {
      "cell_type": "code",
      "metadata": {
        "id": "hIBygVLDMlQp",
        "colab": {
          "base_uri": "https://localhost:8080/"
        },
        "outputId": "7f56a0d1-3f21-4a49-9656-123cde57fcf4"
      },
      "source": [
        "print(label_map[np.argmax(result)])"
      ],
      "execution_count": 20,
      "outputs": [
        {
          "output_type": "stream",
          "text": [
            "India Gate\n"
          ],
          "name": "stdout"
        }
      ]
    },
    {
      "cell_type": "code",
      "metadata": {
        "id": "PUUXRuys68Wv"
      },
      "source": [
        ""
      ],
      "execution_count": null,
      "outputs": []
    }
  ]
}